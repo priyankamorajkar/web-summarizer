{
 "cells": [
  {
   "cell_type": "code",
   "execution_count": null,
   "id": "22c391aa-116e-42ee-b286-98e46bab9ac9",
   "metadata": {},
   "outputs": [],
   "source": [
    "#LOADS NECESSARY LIBRARIES TO FETCH AND SUMMARIZE WEBSITE CONTENT\n",
    "import os\n",
    "import requests\n",
    "from bs4 import BeautifulSoup\n",
    "from IPython.display import Markdown, display\n",
    "\n",
    "#FOR CONNECTING LLaMA3 MODEL LOCALLY USING OLLAMA\n",
    "from openai import OpenAI\n",
    "openai = OpenAI(base_url='http://localhost:11434/v1', api_key='ollama')"
   ]
  },
  {
   "cell_type": "code",
   "execution_count": null,
   "id": "584f8362-27c1-44aa-8440-1fc2e4c2f78f",
   "metadata": {},
   "outputs": [],
   "source": [
    "#TEST MSG\n",
    "message = \"Hello World\"\n",
    "response = openai.chat.completions.create(model=\"llama3.2\", messages=[{\"role\":\"user\", \"content\":message}])\n",
    "print(response.choices[0].message.content)"
   ]
  },
  {
   "cell_type": "code",
   "execution_count": null,
   "id": "99cb2ea5-bc33-4740-9745-112f29280508",
   "metadata": {},
   "outputs": [],
   "source": [
    "#FOR IMIRATING A BROWSER\n",
    "headers = {\n",
    " \"User-Agent\": \"Mozilla/5.0 (Windows NT 10.0; Win64; x64) AppleWebKit/537.36 (KHTML, like Gecko) Chrome/117.0.0.0 Safari/537.36\"\n",
    "}"
   ]
  },
  {
   "cell_type": "code",
   "execution_count": null,
   "id": "7c1db70e-8965-40c3-a9cb-049e5f54f836",
   "metadata": {},
   "outputs": [],
   "source": [
    "#FETCHES A WEBPAGE  CLEANS BY REMOVING SCRIPTS, IMAGES, ETC.\n",
    "class Website:\n",
    "    def __init__(self, url):\n",
    "        self.url = url\n",
    "        response = requests.get(url, headers=headers)\n",
    "        soup = BeautifulSoup(response.content, 'html.parser')\n",
    "        self.title = soup.title.string if soup.title else \"No title found\"\n",
    "        for irrelevant in soup.body([\"script\", \"style\", \"img\", \"input\"]):\n",
    "            irrelevant.decompose()\n",
    "        self.text = soup.body.get_text(separator=\"\\n\", strip=True)"
   ]
  },
  {
   "cell_type": "code",
   "execution_count": null,
   "id": "39f743fd-1676-4fae-8e4e-2d7d36e1adcd",
   "metadata": {},
   "outputs": [],
   "source": [
    "#TESTING BY PRINTING TITLE AND TEXT\n",
    "w = Website(\"https://www.grammarly.com/\")\n",
    "print(w.title)\n",
    "print(w.text)"
   ]
  },
  {
   "cell_type": "code",
   "execution_count": null,
   "id": "b6d4dbaf-5871-44f3-958e-8f1cc728c345",
   "metadata": {},
   "outputs": [],
   "source": [
    "#SYSTEM-LEVEL INTRUCTION FOR LLM\n",
    "system_prompt = \"You are an assistant that analyzes the contents of a website \\\n",
    "and provides a short summary, ignoring text that might be navigation related. \\\n",
    "Respond in markdown.\""
   ]
  },
  {
   "cell_type": "code",
   "execution_count": null,
   "id": "0dac4a51-2fd4-4304-91cb-30474203f156",
   "metadata": {},
   "outputs": [],
   "source": [
    "#USER PROMPT FOR THE MODEL\n",
    "def user_prompt_for(website):\n",
    "    user_prompt = f\"You are looking at a website titled {website.title}\"\n",
    "    user_prompt += \"\\nThe contents of this website is as follows; \\\n",
    "please provide a short summary of this website in markdown. \\\n",
    "If it includes news or announcements, then summarize these too.\\n\\n\"\n",
    "    user_prompt += website.text\n",
    "    return user_prompt\n",
    "\n",
    "print(user_prompt_for(w))"
   ]
  },
  {
   "cell_type": "code",
   "execution_count": null,
   "id": "11a55947-942c-46f9-b491-cbe2329c312a",
   "metadata": {},
   "outputs": [],
   "source": [
    "#EXAMPLE OF DIFFERENT SYSTEM PERSONALITY\n",
    "messages = [\n",
    "    {\"role\": \"system\", \"content\": \"You are a snarky assistant\"},\n",
    "    {\"role\": \"user\", \"content\": \"What is 2 + 2?\"}\n",
    "]\n",
    "response = openai.chat.completions.create(model=\"llama3.2\", messages=messages)\n",
    "print(response.choices[0].message.content)"
   ]
  },
  {
   "cell_type": "code",
   "execution_count": null,
   "id": "78e080f1-c3c2-4a7a-8968-2a7653c9dd64",
   "metadata": {},
   "outputs": [],
   "source": [
    "# COMBINES SYSTEM  USER PROMPTS TO SEND TO LLM\n",
    "def messages_for(website):\n",
    "    return [\n",
    "        {\"role\": \"system\", \"content\": system_prompt},\n",
    "        {\"role\": \"user\", \"content\": user_prompt_for(website)}\n",
    "    ]\n",
    "messages_for(w)\n"
   ]
  },
  {
   "cell_type": "code",
   "execution_count": null,
   "id": "783593b6-87e5-478d-a860-1483db42273b",
   "metadata": {},
   "outputs": [],
   "source": [
    "#FETCHES THE SITE, CREATES PROMPT AND GET'S A SUMMARY FROM LLM\n",
    "def summarize(url):\n",
    "    website = Website(url)\n",
    "    response = openai.chat.completions.create(\n",
    "        model = \"llama3.2\",\n",
    "        messages = messages_for(website)\n",
    "    )\n",
    "    return response.choices[0].message.content\n",
    "\n",
    "#TESTING\n",
    "summarize(\"https://www.grammarly.com/\")"
   ]
  },
  {
   "cell_type": "code",
   "execution_count": 33,
   "id": "af057b9a-65cd-4d55-ba36-80a02e7f429f",
   "metadata": {},
   "outputs": [
    {
     "data": {
      "text/markdown": [
       "### Summary of Grammarly Website\n",
       "\n",
       "#### Introduction\n",
       "\n",
       "**Grammarly** is a free AI writing assistant designed to improve everyday communication.\n",
       "\n",
       "#### Key Features and Benefits\n",
       "\n",
       "*   **AI Writing Assistance**: Use Grammarly to make text more persuasive, use writing suggestions to add a deadline to a Slack message.\n",
       "*   **Cross-Platform Compatibility**: Works across all apps and sites you use without copying or pasting content.\n",
       "*   **Personalized Suggestions**: Get tailored feedback based on what you're writing and who will read it.\n",
       "\n",
       "#### Features of Grammarly\n",
       "\n",
       "Grammly offers several AI-powered tools to improve writing quality, including a grammar checker, plagiarism checker and citation generator, paraphrasing tool and more.\n",
       "\n",
       "**Security**\n",
       "\n",
       "Grammarly is committed to protecting user data and maintaining confidentiality with no commercialization.\n",
       "\n",
       "#### Pricing and Plans\n",
       "\n",
       "Grammarly caters to both individual and enterprise users offering three primary plans: free, personal pro ($0-$983), and team pro ($983-$2499). For larger organizations, Grammarly offers more extensive features such as Data loss prevention and dedicated management."
      ],
      "text/plain": [
       "<IPython.core.display.Markdown object>"
      ]
     },
     "metadata": {},
     "output_type": "display_data"
    }
   ],
   "source": [
    "#DISPLAYS MARKDOWN SUMMARY\n",
    "def display_summary(url):\n",
    "    summary = summarize(url)\n",
    "    display(Markdown(summary))\n",
    "\n",
    "#TESTING\n",
    "display_summary(\"https://www.grammarly.com/\")"
   ]
  },
  {
   "cell_type": "code",
   "execution_count": null,
   "id": "80bc3257-4bae-404e-9b99-6923661d9651",
   "metadata": {},
   "outputs": [],
   "source": []
  }
 ],
 "metadata": {
  "kernelspec": {
   "display_name": "Python 3 (ipykernel)",
   "language": "python",
   "name": "python3"
  },
  "language_info": {
   "codemirror_mode": {
    "name": "ipython",
    "version": 3
   },
   "file_extension": ".py",
   "mimetype": "text/x-python",
   "name": "python",
   "nbconvert_exporter": "python",
   "pygments_lexer": "ipython3",
   "version": "3.12.7"
  }
 },
 "nbformat": 4,
 "nbformat_minor": 5
}
